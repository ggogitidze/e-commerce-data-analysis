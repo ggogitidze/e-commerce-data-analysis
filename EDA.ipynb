{
 "cells": [
  {
   "cell_type": "markdown",
   "metadata": {},
   "source": [
    "## LOAD DATA INTO SQLite ##"
   ]
  },
  {
   "cell_type": "code",
   "execution_count": 8,
   "metadata": {},
   "outputs": [
    {
     "name": "stdout",
     "output_type": "stream",
     "text": [
      "              Aging   Customer_Id         Sales      Quantity      Discount  \\\n",
      "count  51290.000000  51290.000000  51290.000000  51290.000000  51290.000000   \n",
      "mean       5.254933  58155.758764    152.337902      2.502886      0.303816   \n",
      "std        2.960010  26032.215826     66.498173      1.511910      0.131032   \n",
      "min        0.000000  10000.000000      0.000000      0.000000      0.000000   \n",
      "25%        3.000000  35831.250000     85.000000      1.000000      0.200000   \n",
      "50%        5.000000  61018.000000    133.000000      2.000000      0.300000   \n",
      "75%        8.000000  80736.250000    218.000000      4.000000      0.400000   \n",
      "max       10.500000  99999.000000    250.000000      5.000000      0.500000   \n",
      "\n",
      "             Profit  Shipping_Cost  \n",
      "count  51290.000000   51290.000000  \n",
      "mean      70.407226       7.041419  \n",
      "std       48.729488       4.871796  \n",
      "min        0.500000       0.000000  \n",
      "25%       24.900000       2.500000  \n",
      "50%       59.900000       6.000000  \n",
      "75%      118.400000      11.800000  \n",
      "max      167.500000      16.800000  \n"
     ]
    }
   ],
   "source": [
    "import sqlite3\n",
    "import pandas as pd\n",
    "import matplotlib.pyplot as plt\n",
    "import seaborn as sns\n",
    "\n",
    "# Connect to the SQLite database\n",
    "conn = sqlite3.connect('eda.sqlite')  # Provide the path to your SQLite database file\n",
    "\n",
    "# Query data from the database\n",
    "query = \"SELECT * FROM Cleaned_E_commerce_Dataset_v1\"  # Replace with your actual table name\n",
    "df = pd.read_sql_query(query, conn)\n",
    "\n",
    "# Display basic statistics\n",
    "print(df.describe())\n",
    "\n"
   ]
  },
  {
   "cell_type": "code",
   "execution_count": null,
   "metadata": {},
   "outputs": [],
   "source": []
  },
  {
   "cell_type": "code",
   "execution_count": null,
   "metadata": {},
   "outputs": [],
   "source": []
  }
 ],
 "metadata": {
  "kernelspec": {
   "display_name": "base",
   "language": "python",
   "name": "python3"
  },
  "language_info": {
   "codemirror_mode": {
    "name": "ipython",
    "version": 3
   },
   "file_extension": ".py",
   "mimetype": "text/x-python",
   "name": "python",
   "nbconvert_exporter": "python",
   "pygments_lexer": "ipython3",
   "version": "3.9.12"
  }
 },
 "nbformat": 4,
 "nbformat_minor": 2
}
